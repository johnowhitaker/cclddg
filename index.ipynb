{
 "cells": [
  {
   "cell_type": "raw",
   "metadata": {},
   "source": [
    "---\n",
    "description: My code and utilities for training CCLDDGs.\n",
    "output-file: index.html\n",
    "title: CLOOB Conditioned Latent Denoising Diffusion GAN\n",
    "\n",
    "---\n",
    "\n"
   ]
  },
  {
   "cell_type": "markdown",
   "metadata": {},
   "source": [
    "[![](https://github.com/johnowhitaker/cclddg/actions/workflows/test.yaml/badge.svg)](https://github.com/johnowhitaker/cclddg/actions/workflows/test.yaml)"
   ]
  },
  {
   "cell_type": "code",
   "execution_count": null,
   "metadata": {},
   "outputs": [],
   "source": [
    "#| include: false\n",
    "from cclddg.core import *"
   ]
  },
  {
   "cell_type": "markdown",
   "metadata": {},
   "source": [
    "This is very much a work in progress. Stay tuned for better info soon :)\n",
    "\n",
    "In the meantime, the core ideas:\n",
    "\n",
    "- Diffusion models gradually noise an image and learn the reverse process. Great but lots of steps means slow inference\n",
    "- DDGs tweak the training to include a discriminator, and promise good results in very few steps at inference\n",
    "- Latent diffusion means doing it in the latent space of some autoencoder, which is more efficient.\n",
    "- We can condition these models with various extra info. I chose to use CLOOB embeddings as conditioning info. That way we can get these from images or text or both during training, and at inference feed in either text or images and use them as conditioning for the generation process. In theory this gives a nice way to do text-to-image!\n",
    "\n",
    "I tried training for a few hours on CC12M and while the results aren't photorealistic you can definitely see *something* of a prompt in the outputs - 'blue ocean waves' is mostly blue, for eg. Results from a longer trainging run soon."
   ]
  },
  {
   "cell_type": "markdown",
   "metadata": {},
   "source": [
    "## Install"
   ]
  },
  {
   "cell_type": "markdown",
   "metadata": {},
   "source": [
    "I might turn this into a package later, for now your best bet is to check out the colab(s) below or follow the instructions in 'Running the training script'."
   ]
  },
  {
   "cell_type": "markdown",
   "metadata": {},
   "source": [
    "## What is all this"
   ]
  },
  {
   "cell_type": "markdown",
   "metadata": {},
   "source": [
    "The main thing this code does is define a UNet architecture and an accompanying Discriminator architecture that can take in an image (or a latent representation of one) along with conditioning information (what timestep we're looking at, a CLOOB embedding of an image or caption) and a latent variable `z` used to turn the unet into a more GAN-like multimodal generator thingee. \n",
    "\n",
    "Demos\n",
    "- A standard diffusion model TODO\n",
    "- A standard latent diffusion model TODO\n",
    "- A standard Defusion Denoising GAN TODO\n",
    "- CLOOB-Conditioned Latent Defusion Denoising GAN: https://colab.research.google.com/drive/1T5LommNOw4cVr8bX6AO5QXJ7D1LyXz2m?usp=sharing (faces)\n",
    "\n",
    "W&B runs TODO"
   ]
  },
  {
   "cell_type": "markdown",
   "metadata": {},
   "source": [
    "# Running the training script\n",
    "\n",
    "The train script is written to run OUTSIDE this directory (aka NOT in cclddg). It also assumes the locations of various dependancies and model files. To set it up, in a notebook run:"
   ]
  },
  {
   "cell_type": "code",
   "execution_count": null,
   "metadata": {},
   "outputs": [],
   "source": [
    "# !git clone https://github.com/johnowhitaker/cclddg                               &>> install.log\n",
    "# !git clone https://github.com/CompVis/latent-diffusion                           &>> install.log\n",
    "# !git clone https://github.com/CompVis/taming-transformers                        &>> install.log\n",
    "# !pip install -e ./taming-transformers                                            &>> install.log\n",
    "# !git clone --recursive https://github.com/crowsonkb/cloob-training               &>> install.log\n",
    "# !git clone https://github.com/openai/CLIP/                                       &>> install.log\n",
    "# !pip install CLIP/.                                                              &>> install.log\n",
    "# !pip install --upgrade webdataset ipywidgets lpips                               &>> install.log\n",
    "# !pip install datasets omegaconf einops wandb pytorch_lightning                   &>> install.log\n",
    "# !wget https://ommer-lab.com/files/latent-diffusion/kl-f8.zip                     &>> install.log\n",
    "# !unzip -q kl-f8.zip "
   ]
  },
  {
   "cell_type": "markdown",
   "metadata": {},
   "source": [
    "Then if you wish to use W&B for logging, run `wandb login` in a terminal.\n",
    "\n",
    "Then copy the script from the cclddg folder downloaded as part of the command above to your local dir:\n",
    "\n",
    "`cp cclddg/train_cclddg.py train.py`\n",
    "\n",
    "And run your training like so:\n",
    "\n",
    "`python train.py --z_dim 16 --n_channels_unet 64 --batch_size 64 --n_batches 200 --lr_gen 0.0001 --lr_disc 0.0001 --log_images_every 50 --save_models_every 500 --n_steps 8 --dataset celebA --wandb_project cclddg_faces`"
   ]
  },
  {
   "cell_type": "markdown",
   "metadata": {},
   "source": [
    "# More info\n",
    "\n",
    "Let's break this down into bits\n",
    "\n",
    "## Diffusion models\n",
    "\n",
    "Link DDPM paper\n",
    "\n",
    "Image\n",
    "\n",
    "Demo using this code\n",
    "\n",
    "## Denoising Diffusion GANs\n",
    "\n",
    "Link paper\n",
    "\n",
    "Diagram\n",
    "\n",
    "Explanation\n",
    "\n",
    "How this differs from paper (read paper)\n",
    "\n",
    "Demo using this code\n",
    "\n",
    "## Latent Diffusion\n",
    "\n",
    "Explain AE\n",
    "\n",
    "Latent DDG demo\n",
    "\n",
    "## CLOOB Conditioning\n",
    "\n",
    "Explain\n",
    "\n",
    "Demo\n",
    "\n",
    "Examples of text-to-image capacity trained on just images"
   ]
  },
  {
   "cell_type": "code",
   "execution_count": null,
   "metadata": {},
   "outputs": [],
   "source": []
  }
 ],
 "metadata": {
  "kernelspec": {
   "display_name": "Python 3 (ipykernel)",
   "language": "python",
   "name": "python3"
  }
 },
 "nbformat": 4,
 "nbformat_minor": 4
}
